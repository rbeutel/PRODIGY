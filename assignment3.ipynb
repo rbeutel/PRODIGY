{
 "cells": [
  {
   "cell_type": "code",
   "execution_count": 1,
   "metadata": {},
   "outputs": [],
   "source": [
    "import numpy as np\n",
    "import matplotlib.pyplot as plt\n",
    "import xarray as xr\n",
    "import pandas as pd"
   ]
  },
  {
   "cell_type": "markdown",
   "metadata": {},
   "source": [
    "# Question 1\n",
    "#### Using the saved plots and looking at the clean data, do you think there are still outliers in the pCO2 data? Why do you think so?"
   ]
  },
  {
   "cell_type": "markdown",
   "metadata": {},
   "source": [
    "# Question 2\n",
    "QC Flag (0-9): 0 = no QC; 1 = good; 2 = probably good!;  use with caution; 3 = probably bad; 4 = bad; 6 = bad down-sampling; 7 = Averaged value; 8 = Interpolated Value; 9 = Missing Value (NaN)"
   ]
  },
  {
   "cell_type": "code",
   "execution_count": 4,
   "metadata": {},
   "outputs": [],
   "source": [
    "data = pd.read_csv('BaynesSoundMooring_5m_pCO2_20210923T000000Z_20210925T235959Z.csv', header=52, usecols=[0,1,2])\n",
    "\n",
    "# convert to datetime\n",
    "data['datetime'] = pd.to_datetime(data['#\"Time UTC (yyyy-mm-ddThh:mm:ss.fffZ)\"'])\n",
    "\n",
    "# drop the non-converted datetime axis\n",
    "data.drop(columns='#\"Time UTC (yyyy-mm-ddThh:mm:ss.fffZ)\"', inplace=True)\n",
    "\n",
    "#convert other columns to numeric\n",
    "data['pCO2'] = pd.to_numeric(data[' \"CO2 Partial Pressure (pCO2 uatm)\"'], errors = 'coerce')\n",
    "data['flag'] = pd.to_numeric(data[' \"CO2 Partial Pressure QC Flag\"  '], errors = 'coerce')\n",
    "\n",
    "# drop the non-converted axis\n",
    "data.drop(columns=' \"CO2 Partial Pressure (pCO2 uatm)\"', inplace=True)\n",
    "data.drop(columns=' \"CO2 Partial Pressure QC Flag\"  ', inplace=True)"
   ]
  },
  {
   "cell_type": "code",
   "execution_count": 5,
   "metadata": {},
   "outputs": [
    {
     "data": {
      "text/html": [
       "<div>\n",
       "<style scoped>\n",
       "    .dataframe tbody tr th:only-of-type {\n",
       "        vertical-align: middle;\n",
       "    }\n",
       "\n",
       "    .dataframe tbody tr th {\n",
       "        vertical-align: top;\n",
       "    }\n",
       "\n",
       "    .dataframe thead th {\n",
       "        text-align: right;\n",
       "    }\n",
       "</style>\n",
       "<table border=\"1\" class=\"dataframe\">\n",
       "  <thead>\n",
       "    <tr style=\"text-align: right;\">\n",
       "      <th></th>\n",
       "      <th>datetime</th>\n",
       "      <th>pCO2</th>\n",
       "      <th>flag</th>\n",
       "    </tr>\n",
       "  </thead>\n",
       "  <tbody>\n",
       "    <tr>\n",
       "      <th>0</th>\n",
       "      <td>2021-09-24 12:30:00.675000+00:00</td>\n",
       "      <td>637.725201</td>\n",
       "      <td>1</td>\n",
       "    </tr>\n",
       "    <tr>\n",
       "      <th>1</th>\n",
       "      <td>2021-09-24 12:30:01.741000+00:00</td>\n",
       "      <td>637.607007</td>\n",
       "      <td>1</td>\n",
       "    </tr>\n",
       "    <tr>\n",
       "      <th>2</th>\n",
       "      <td>2021-09-24 12:30:03.572000+00:00</td>\n",
       "      <td>637.065285</td>\n",
       "      <td>1</td>\n",
       "    </tr>\n",
       "    <tr>\n",
       "      <th>3</th>\n",
       "      <td>2021-09-24 12:30:04.651000+00:00</td>\n",
       "      <td>637.291823</td>\n",
       "      <td>1</td>\n",
       "    </tr>\n",
       "    <tr>\n",
       "      <th>4</th>\n",
       "      <td>2021-09-24 12:30:05.718000+00:00</td>\n",
       "      <td>637.380469</td>\n",
       "      <td>1</td>\n",
       "    </tr>\n",
       "    <tr>\n",
       "      <th>...</th>\n",
       "      <td>...</td>\n",
       "      <td>...</td>\n",
       "      <td>...</td>\n",
       "    </tr>\n",
       "    <tr>\n",
       "      <th>6626</th>\n",
       "      <td>2021-09-24 14:29:55.332000+00:00</td>\n",
       "      <td>576.727283</td>\n",
       "      <td>1</td>\n",
       "    </tr>\n",
       "    <tr>\n",
       "      <th>6627</th>\n",
       "      <td>2021-09-24 14:29:56.399000+00:00</td>\n",
       "      <td>576.717434</td>\n",
       "      <td>1</td>\n",
       "    </tr>\n",
       "    <tr>\n",
       "      <th>6628</th>\n",
       "      <td>2021-09-24 14:29:57.467000+00:00</td>\n",
       "      <td>576.737133</td>\n",
       "      <td>1</td>\n",
       "    </tr>\n",
       "    <tr>\n",
       "      <th>6629</th>\n",
       "      <td>2021-09-24 14:29:58.533000+00:00</td>\n",
       "      <td>576.855327</td>\n",
       "      <td>1</td>\n",
       "    </tr>\n",
       "    <tr>\n",
       "      <th>6630</th>\n",
       "      <td>2021-09-24 14:29:59.612000+00:00</td>\n",
       "      <td>577.022768</td>\n",
       "      <td>1</td>\n",
       "    </tr>\n",
       "  </tbody>\n",
       "</table>\n",
       "<p>6631 rows × 3 columns</p>\n",
       "</div>"
      ],
      "text/plain": [
       "                             datetime        pCO2  flag\n",
       "0    2021-09-24 12:30:00.675000+00:00  637.725201     1\n",
       "1    2021-09-24 12:30:01.741000+00:00  637.607007     1\n",
       "2    2021-09-24 12:30:03.572000+00:00  637.065285     1\n",
       "3    2021-09-24 12:30:04.651000+00:00  637.291823     1\n",
       "4    2021-09-24 12:30:05.718000+00:00  637.380469     1\n",
       "...                               ...         ...   ...\n",
       "6626 2021-09-24 14:29:55.332000+00:00  576.727283     1\n",
       "6627 2021-09-24 14:29:56.399000+00:00  576.717434     1\n",
       "6628 2021-09-24 14:29:57.467000+00:00  576.737133     1\n",
       "6629 2021-09-24 14:29:58.533000+00:00  576.855327     1\n",
       "6630 2021-09-24 14:29:59.612000+00:00  577.022768     1\n",
       "\n",
       "[6631 rows x 3 columns]"
      ]
     },
     "execution_count": 5,
     "metadata": {},
     "output_type": "execute_result"
    }
   ],
   "source": [
    "# 12:30 to 14:30 during 24-Sept-2021 - assuming timezone is UTC\n",
    "daymin = pd.to_datetime('2021-09-24 12:30:00Z')\n",
    "daymax = pd.to_datetime('2021-09-24 14:30:00Z')\n",
    "\n",
    "# trim by selected dates\n",
    "data = data[(data.datetime >= daymin) & (data.datetime <= daymax)]\n",
    "data = data.reset_index(drop=True)\n",
    "data"
   ]
  },
  {
   "cell_type": "code",
   "execution_count": 10,
   "metadata": {},
   "outputs": [
    {
     "data": {
      "text/plain": [
       "Text(0, 0.5, 'CO2 Partial Pressure (pCO2 uatm)')"
      ]
     },
     "execution_count": 10,
     "metadata": {},
     "output_type": "execute_result"
    },
    {
     "data": {
      "image/png": "[encoded data removed]",
      "text/plain": [
       "<Figure size 864x432 with 1 Axes>"
      ]
     },
     "metadata": {
      "needs_background": "light"
     },
     "output_type": "display_data"
    }
   ],
   "source": [
    "fig, ax = plt.subplots(1,1, figsize = (12,6))\n",
    "ax.plot(data['datetime'],data['pCO2'])\n",
    "ax.yaxis.set_major_locator(plt.MaxNLocator(10))\n",
    "ax.set_ylabel('CO2 Partial Pressure (pCO2 uatm)')"
   ]
  },
  {
   "cell_type": "code",
   "execution_count": null,
   "metadata": {},
   "outputs": [],
   "source": []
  }
 ],
 "metadata": {
  "kernelspec": {
   "display_name": "prodigy",
   "language": "python",
   "name": "prodigy"
  },
  "language_info": {
   "codemirror_mode": {
    "name": "ipython",
    "version": 3
   },
   "file_extension": ".py",
   "mimetype": "text/x-python",
   "name": "python",
   "nbconvert_exporter": "python",
   "pygments_lexer": "ipython3",
   "version": "3.10.2"
  }
 },
 "nbformat": 4,
 "nbformat_minor": 4
}
