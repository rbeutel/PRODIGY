{
 "cells": [
  {
   "cell_type": "markdown",
   "metadata": {},
   "source": [
    "# Spatial Temporal Forecasts - Assignment & Class notes\n",
    "\n",
    "\n",
    "## Intro\n",
    "\n",
    "This assignment and notes notes have been adapted from: \n",
    "Wikle, C. K., Zammit-Mangion, A., and Cressie, N. (2019), \n",
    "Spatio-Temporal Statistics with R, Boca Raton, FL: Chapman & Hall/CRC. \n",
    "The book and code (in `R`) are freely available online at \n",
    "[https://spacetimewithr.org](https://spacetimewithr.org)\n",
    "\n",
    "In this module we consider a simple linear dynamical model\n",
    "for Sea Surface Temperature (anomalies) data. The data are monthly anomalies\n",
    "from a January 1970 - March 2003 climatology (averaged over time). \n",
    "and are gridded at a resolution of 2 x 2 degrees between 124E - 70W and 30S - 30N. \n",
    "These data were obtained from the NOAA Climate Prediction Center \n",
    "as available in the IRI/LDEO\n",
    "Climate Data Library at Columbia University\n",
    "[http://iridl.ldeo.columbia.edu/SOURCES/.CAC/](http://iridl.ldeo.columbia.edu/SOURCES/.CAC/). \n",
    "\n",
    "We have made this Sea Surface Temperature (SST) data available as three different \n",
    "plain-text files on Google drive. \n",
    "These are: `SSTlonlat.txt`, which contains the longitude and latitude\n",
    "of each observation (2520 rows, 2 columns), `SSTlandmask.txt` which is a 2520 long\n",
    "vector of 0/1 flags indicating whether the corresponding pixel is over land or \n",
    "water (\"`1`\" indicates land), and `SSTdata.txt` which contains 2520 rows and 399 columns. Each \n",
    "column corresponds to a 2520 vector of monthly SST measurements. \n",
    "For example, the observations for May 1992 for the 2520 locations \n",
    "can be found in column 269 ( `(1992 - 1970)*12 + 5 = 269`) (column 1 corresponds to January 1970).\n",
    "\n",
    "Our goal is to use a simple dynamical model to obtain 6-month ahead forecasts. \n",
    "We will use data until April 1997 to predict the Oct 1997 anomalies. Since we have the Oct 1997 data, \n",
    "we will be able to evaluate the accuracy of the predictions. Note that Oct 1997 was an\n",
    "El Nino month. \n",
    "\n",
    "To obtain 6-month forecasts we will consider two approaches: one \n",
    "is the one discussed in class, based on a 6-month lag model (so that we model the evolution of the\n",
    "SST \"surface\" in 6-month steps). This document contains a detailed description of this\n",
    "approach, along with the corresponding `MATLAB` code. \n",
    "The other approach is based on a 1-month lag model. \n",
    "As discussed in class, to estimate the parameters of either of these\n",
    "models (lag-1 or lag-6) we will need to reduce the dimension of our data. \n",
    "\n",
    "The class notes below include all the code needed to reproduce the analysis \n",
    "discussed on Tuesday. The assignment (5 questions) can be\n",
    "found at the end of this document.  You may want to consider adapting the code\n",
    "in these class notes to work on the assignment. \n",
    "\n",
    "To submit your assignment please email a PDF version of your Notebook to Mohamed (mmmahmed@uvic.ca). \n",
    "Please rename your PDF as “firstname_lastname_week5\".\n",
    "\n",
    "## Class notes\n",
    "\n",
    "### Load data\n",
    "\n",
    "The following lines load the required data:"
   ]
  },
  {
   "cell_type": "code",
   "execution_count": null,
   "metadata": {},
   "outputs": [],
   "source": [
    "SSTlonlat = importdata('SSTlonlat.txt',' ',1).data;\n",
    "SSTlandmask = importdata('SSTlandmask.txt',' ',1).data;\n",
    "SSTdata = importdata('SSTdata.txt',' ',1).data;"
   ]
  },
  {
   "cell_type": "markdown",
   "metadata": {},
   "source": [
    "### Preprocessing\n",
    "\n",
    "Preparing for our forecast exercise ahead, \n",
    "we now extract the Oct 1997 observations (this is our \"target\", we\n",
    "will  later compare our predictions to them). The code below also builds our\n",
    "training SST data set (with observations until April 1997),\n",
    "ignoring land pixels. Note that April 1997\n",
    "corresponds to column 328 in `SSTdata`, and Oct 1997\n",
    "to column 334. At the same time we also remove the locations \n",
    "(rows in our data matrices above)\n",
    "which correspond to land locations. \n",
    "This information is available in the \"1-column\" matrix `SSTlandmask`. "
   ]
  },
  {
   "cell_type": "code",
   "execution_count": null,
   "metadata": {},
   "outputs": [],
   "source": [
    "delete_rows = SSTlandmask == 1 ;\n",
    "SST_Oct97 = SSTdata(~delete_rows, 334);\n",
    "SSTdata = SSTdata(~delete_rows, 1:328);"
   ]
  },
  {
   "cell_type": "markdown",
   "metadata": {},
   "source": [
    "### Compute EOF (principal components)\n",
    "\n",
    "As discussed in class, to estimate the components of these simple\n",
    "linear dynamic models, we need to reduce the dimension of our observations. \n",
    "The optimal basis on which to project our observations is given by the so-called \n",
    "Empirical Orthogonal Functions (EOF). \n",
    "\n",
    "Let $\\tilde{\\mathbf{Z}}_t = \\mathbf{Z}_t - \\hat{\\mathbf{\\mu}}_Z$ be \n",
    "the centered vectors\n",
    "of $m = 2261$ water observations at time $t$, \n",
    "for $t=1, 2, \\ldots, 328$, \n",
    "and let $\\tilde{{\\cal Z}}$ be the $328 \\times 2261$\n",
    "matrix that has $\\tilde{\\mathbf{Z}}_t$ in its $t$-th row. Then the lag-0\n",
    "empirical spatial covariance matrix estimator is\n",
    "$$\n",
    "\\hat{C}^{(0)}_\\mathbf{Z} = \n",
    "\\frac{1}{n_T-1} \\tilde{{\\cal Z}}^\\top \\tilde{{\\cal Z}} = \n",
    "\\frac{1}{n_T-1} \\sum_{i=1}^{n_T} \\tilde{\\mathbf{Z}}_t \\, \n",
    "\\tilde{\\mathbf{Z}}_t^\\top\n",
    "$$\n",
    "\n",
    "Moreover, the eigenvalues of $\\hat{C}^{(0)}_\\mathbf{Z}$ \n",
    "can be computed from the Singular\n",
    "Value Decomposition of the matrix $\\tilde{{\\cal Z}}$ (without having to compute\n",
    "$\\hat{C}^{(0)}_\\mathbf{Z}$). Specifically: if\n",
    "the SVD of the matrix $\\tilde{{\\cal Z}} / \\sqrt{N_t -1}$ is \n",
    "$\\tilde{{\\cal Z}} = \\mathbf{U} \\, \\mathbf{D} \\,  \\mathbf{V}^\\top$, \n",
    "then the eigenvectors of \n",
    "$\\hat{C}_\\mathbf{Z}^{(0)} = \\tilde{{\\cal Z}}^\\top \\tilde{{\\cal Z}} / (n_T-1)$ \n",
    "(which are to the EOFs)\n",
    "are given by the columns of\n",
    "$\\mathbf{V}$. \n",
    "\n",
    "The next 4 blocks of code compute $\\hat{C}^{(0)}_\\mathbf{Z}$ as described above.\n",
    "\n",
    "First we re-organize the data so that each row corresponds to the measurements\n",
    "(across space) for one month, and columns correspond to locations."
   ]
  },
  {
   "cell_type": "code",
   "execution_count": null,
   "metadata": {},
   "outputs": [],
   "source": [
    "Z = SSTdata';"
   ]
  },
  {
   "cell_type": "markdown",
   "metadata": {},
   "source": [
    "We now substract the vector of spatial means from each of the \n",
    "rows of `Z`, and divide this matrix by $\\sqrt{n_T -1}$, where $n_T$ is the\n",
    "number of observations available for each location\n",
    "(in our case $n_T = 328$). First compute the vector of spatial means $\\hat{\\mathbf{\\mu}}_\\mathbf{Z} = (1/n_T)\n",
    "\\sum_{i=1}^{n_T} \\mathbf{Z}_t$"
   ]
  },
  {
   "cell_type": "code",
   "execution_count": null,
   "metadata": {},
   "outputs": [],
   "source": [
    "spat_mean = mean(Z, 1); "
   ]
  },
  {
   "cell_type": "markdown",
   "metadata": {},
   "source": [
    "and then substract $\\hat{\\mathbf{\\mu}}_\\mathbf{Z}$ from \n",
    "each row of `Z`:"
   ]
  },
  {
   "cell_type": "code",
   "execution_count": null,
   "metadata": {},
   "outputs": [],
   "source": [
    "Zspat_detrend = Z - spat_mean; "
   ]
  },
  {
   "cell_type": "markdown",
   "metadata": {},
   "source": [
    "Finally, divide the centered matrix by the factor $\\sqrt{n_T - 1}$:"
   ]
  },
  {
   "cell_type": "code",
   "execution_count": null,
   "metadata": {},
   "outputs": [],
   "source": [
    "[nt m] = size(Z);\n",
    "Zt = Zspat_detrend ./ sqrt(nt - 1);"
   ]
  },
  {
   "cell_type": "markdown",
   "metadata": {},
   "source": [
    "Now, to compute the EOFs we use the Singular\n",
    "Value Decomposition of ${\\cal Z}$ as described above. In our code\n",
    "this matrix is `Zt`. We can compute the SVD with the function\n",
    "`svd()`. Specifically we need the \n",
    "$\\mathbf{V}$ matrix which is returned in the third element\n",
    "(in the code below, we're only interested in the result `Ev`):"
   ]
  },
  {
   "cell_type": "code",
   "execution_count": null,
   "metadata": {},
   "outputs": [],
   "source": [
    "[U S Ev] = svd(Zt);"
   ]
  },
  {
   "cell_type": "markdown",
   "metadata": {},
   "source": [
    "Since our dynamical model applies to the \n",
    "projections $\\mathbf{\\alpha}_t$ of the observations on the subspace generated\n",
    "by the first $n=10$ EOFs, we compute these \"new\" $\\mathbf{\\alpha}_t$ vectors first. \n",
    "Recall that $\\tilde{\\mathbf{Z}}_t$ is the row vector of \n",
    "centered observations at time $t$, and hence its projection\n",
    "coordinates (as a row vector $\\alpha_t$)\n",
    "are given by \n",
    "$$\n",
    "\\alpha_t = (Z_t - \\mu_Z) \\, \\mathbf{V}_{n} = \\tilde{Z}_t \\, \\mathbf{V}_{n}\n",
    "$$\n",
    "where $\\mathbf{V}_n \\in \\mathbb{R}^{m \\times n}$ contains the first $n$ \n",
    "columns of $\\mathbf{V}$. We can compute the whole $n_T \\times n$ matrix \n",
    "of $\\alpha_t$ rows as\n",
    "$$\n",
    "\\text{TS} = \\tilde{{\\cal Z}} \\, \\mathbf{V}_{n}\n",
    "$$\n",
    "For this analysis we will only use $n = 10$ EOFs (so we will reduce the dimension of \n",
    "the data from $m = 2261$ to $10$):"
   ]
  },
  {
   "cell_type": "code",
   "execution_count": null,
   "metadata": {},
   "outputs": [],
   "source": [
    "n = 10;\n",
    "TS = Zspat_detrend * Ev(:, 1:n);"
   ]
  },
  {
   "cell_type": "markdown",
   "metadata": {},
   "source": [
    "Note that the $n$ coordinates of the projections ($\\alpha_t$) of each of the \n",
    "monthly surfaces are in the rows of `TS` (which should have size 328 x 10). \n",
    "\n",
    "<!-- plot the mean -->\n",
    "<!-- tmp <- cbind(SSTlonlat[-delete_rows,], spat_mean) -->\n",
    "<!-- # 228 = (1989 - 1970)*12 -->\n",
    "<!-- ggplot(tmp) + geom_tile(aes(x = lon, y = lat, fill = spat_mean)) + -->\n",
    "<!--   scale_fill_distiller(palette = \"Spectral\", name = \"degC\") + -->\n",
    "<!--   theme_bw() + coord_fixed() + -->\n",
    "<!--   xlab(\"Longitude (deg)\") + ylab(\"Latitude (deg)\") -->\n",
    "\n",
    "To check visually how much accuracy is lost when we replace our data \n",
    "$\\mathbf{Z}_t$ with these\n",
    "$n$-dimensional approximations, \n",
    "we use the observations of Jan 1989 \n",
    "(which correspond to $t = 228$)\n",
    "as an example. \n",
    "Its projection coordinates \n",
    "on the $n$-dimensional EOFs subspace are $\\alpha_{228}$,\n",
    " the 228th row of `TS` (i.e. `TS(228,:)`). \n",
    " Thus, the approximated vector of observations\n",
    "is $\\mathbf{V}_n \\, \\alpha_{228} + \\mathbf{\\mu}$. \n",
    "We can compute this approximated vector spatial measurements\n",
    "with"
   ]
  },
  {
   "cell_type": "code",
   "execution_count": null,
   "metadata": {},
   "outputs": [],
   "source": [
    "SSTreconstructed = Ev(:, 1:n) * TS(228, :)'  + spat_mean';"
   ]
  },
  {
   "cell_type": "markdown",
   "metadata": {},
   "source": [
    "When you visualize the resulting `SSTreconstructed` and compare it with\n",
    "the actual data `Z(:, 228)`, you will note that while the \n",
    "approximated SST surface reflects the\n",
    "main trends of the observed\n",
    "data, it also results in a much \"smoother\" (simpler) surface. We can expect\n",
    "this \"smoothing\" artifact to affect the accuracy of the predictions to\n",
    "be constructed from the lower-dimensional representations. \n",
    "\n",
    "\n",
    "### Estimate the dynamic model (6-month lag) \n",
    "\n",
    "A simple (lag-$\\tau$) dynamic model (**if it were applied to the \n",
    "2261-dimensional data vectors** $\\mathbf{Z}_t$) would be:\n",
    "\\begin{align*}\n",
    "\\mathbf{Z}_t &= \\mathbf{\\mu}_Z + \\mathbf{Y}_t + \\mathbf{\\varepsilon}_t \\\\\n",
    "\\mathbf{Y}_t &= \\mathbf{M} \\, \\mathbf{Y}_{t-\\tau} + \\mathbf{\\gamma}_t\n",
    "\\end{align*}\n",
    "where $\\mathbf{\\varepsilon}_t$ and $\\mathbf{\\gamma}_t$ are \n",
    "random errors with mean zero. \n",
    "The model above can also be written as\n",
    "$$\n",
    "\\mathbf{Z}_t - \\mathbf{\\mu}_Z =  M ( \\mathbf{Z}_{t-\\tau} - \\mathbf{\\mu}_Z ) + \\mathbf{\\eta}_t\n",
    "$$\n",
    "\n",
    "**However**, recall that instead of using our high-dimensional vectors \n",
    "$\\mathbf{Z}_t$, **we will work with the low dimensional projections** onto the\n",
    "EOF space: $\\mathbf{\\alpha}_t$. Furthermore, note that \n",
    "$\\sum_{t=1}^{n_T} \\mathbf{\\alpha}_t = \\mathbf{0}$, so we \n",
    "can set $\\mathbf{\\mu}_{\\mathbf{\\alpha}} = \\mathbf{0}$ and\n",
    "get the linear dynamic model\n",
    "$$\n",
    "\\mathbf{\\alpha}_t = \\mathbf{M} \\, \\mathbf{\\alpha}_{t-\\tau} + \\mathbf{\\eta}_t\n",
    "$$\n",
    "where $\\mathbf{M} \\in \\mathbb{R}^{n \\times n}$ is unknown, and \n",
    "the errors $\\mathbf{\\eta}_t$ are assumed to have mean zero and\n",
    "unknown \n",
    "covariance matrix $C_\\eta$. \n",
    "\n",
    "As discussed in class, a simple estimate the matrix of our\n",
    "linear dynamical model is based on the observed lagged covariance\n",
    "matrix. For a 6-month lag model we need to calculate the covariance\n",
    "matrix of the coordinates of our observations \n",
    "when projected on the EOFs subspace ($\\mathbf{\\alpha}_t$) These were\n",
    "stored in the rows of the `TS` object above. The lag-0 covariance matrix\n",
    "can then be estimated with `TS' %*% TS / nT`.\n",
    "Recall that \n",
    "$$\n",
    "\\hat{C}^{(0)}_\\alpha = \\frac{1}{n_T} \\sum_{t=1}^{n_T} \\alpha_t \\alpha_t^\\top\n",
    "$$\n",
    "(because $\\sum_{t=1}^{n_T} \\alpha_t = 0$, so we do not need to \n",
    "center them), and the $\\tau$-lag empirical covariance matrix is:\n",
    "$$\n",
    "\\hat{C}^{(\\tau)}_\\alpha = \\frac{1}{n_T-\\tau} \\sum_{t=\\tau+1}^{n_T} \\alpha_{t} \\alpha_{t-\\tau}^\\top\n",
    "= \\frac{1}{n_T-\\tau} \\sum_{t=1}^{n_T-\\tau} \\alpha_{t+\\tau} \\alpha_{t}^\\top\n",
    "$$\n",
    "We now compute $\\hat{C}^{(0)}_\\alpha$ and $\\hat{C}^{(\\tau)}_\\alpha$\n",
    "with $\\tau = 6$ (a 6-month lag model):"
   ]
  },
  {
   "cell_type": "code",
   "execution_count": null,
   "metadata": {},
   "outputs": [],
   "source": [
    "tau = 6;\n",
    "[nt d] = size(TS);\n",
    "Cov0 = TS' * TS ./ nt; \n",
    "TStplustau = TS( (tau+1):nt, :); % TS with first tau time pts removed\n",
    "TSt = TS(1:(nt-tau), :);    % TS with last tau time pts removed\n",
    "Covtau = (TSt' * TStplustau)' ./ (nt - tau); "
   ]
  },
  {
   "cell_type": "markdown",
   "metadata": {},
   "source": [
    "As discussed in class, we can now use the relationship between $M$ and $C_\\eta$ with \n",
    "$C^{(0)}_{\\mathbf{\\alpha}}$\n",
    "and $C^{(\\tau)}_{\\mathbf{\\alpha}}$\n",
    "to estimate $\\mathbf{M}$ and $C_\\eta$. Recall that\n",
    "$$\n",
    "\\hat{\\mathbf{M}} = \\hat{C}^{(\\tau)}_{\\mathbf{\\alpha}} \\, \\left[ \\hat{C}^{(0)}_{\\mathbf{\\alpha}} \\right]^{-1}\n",
    "\\quad \\text{and} \\quad \n",
    "\\hat{C}_\\eta = \\hat{C}^{(0)}_{\\mathbf{\\alpha}} - \n",
    "\\hat{C}^{(\\tau)}_{\\mathbf{\\alpha}} \\, \n",
    "\\left[ \\hat{C}^{(0)}_{\\mathbf{\\alpha}} \\right]^{-1} \\,\n",
    "\\left. \\hat{C}^{(\\tau)}_{\\mathbf{\\alpha}} \\right.^\\top\n",
    "$$\n",
    "In `MATLAB`:"
   ]
  },
  {
   "cell_type": "code",
   "execution_count": null,
   "metadata": {},
   "outputs": [],
   "source": [
    "C0inv = inv(Cov0); %<- solve(Cov0)\n",
    "Mest = Covtau * C0inv;\n",
    "Ceta = Cov0 - Covtau * C0inv * Covtau';"
   ]
  },
  {
   "cell_type": "markdown",
   "metadata": {},
   "source": [
    "### Compute 6-months ahead predictions\n",
    "\n",
    "Our simple dynamic model for the \n",
    "projections onto the\n",
    "EOF space, $\\mathbf{\\alpha}_t$ is based on 6-month steps:\n",
    "$$\n",
    "\\mathbf{\\alpha}_t = \\mathbf{M} \\, \\mathbf{\\alpha}_{t-6} + \\mathbf{\\eta}_t\n",
    "$$\n",
    "Thus, we can predict the coordinates on the EOF space of \n",
    "the Oct 1997 values $\\alpha_{334}$ by transformingt those \n",
    "of April 1997: $\\alpha_{328}$. In symbols:\n",
    "$$\n",
    "\\hat{\\mathbf{\\alpha}}_{334} = \\hat{\\mathbf{M}} \\, \\mathbf{\\alpha}_{328}\n",
    "$$\n",
    "The code is simply:"
   ]
  },
  {
   "cell_type": "code",
   "execution_count": null,
   "metadata": {},
   "outputs": [],
   "source": [
    "alpha_forecast = Mest * TS(328, :)';"
   ]
  },
  {
   "cell_type": "markdown",
   "metadata": {},
   "source": [
    "The corresponding spatial predictions will be\n",
    "$$\n",
    "\\mathbf{Z}^{(R)}_{334} = \\mathbf{V}_{n} \\, \\hat{\\mathbf{\\alpha}}_{334}\n",
    "+ \\hat{\\mathbf{\\mu}}_Z\n",
    "$$"
   ]
  },
  {
   "cell_type": "code",
   "execution_count": null,
   "metadata": {},
   "outputs": [],
   "source": [
    "spatial_forecast = Ev(:, 1:n) * alpha_forecast + spat_mean';"
   ]
  },
  {
   "cell_type": "markdown",
   "metadata": {},
   "source": [
    "Note that, assuming that $\\hat{\\mathbf{M}}$ is \"known\", we can estimate the\n",
    "covariance matrix of the estimated $\\hat{\\mathbf{\\alpha}}_{334}$ as\n",
    "$$\n",
    "\\hat{C}_{\\mathbf{\\alpha}} = \\hat{\\mathbf{M}} \\, \\hat{C}_{\\mathbf{\\alpha}}^{(0)} \\, \n",
    "\\hat{\\mathbf{M}}^\\top + \\hat{C}_{\\mathbf{\\eta}}\n",
    "$$"
   ]
  },
  {
   "cell_type": "code",
   "execution_count": null,
   "metadata": {},
   "outputs": [],
   "source": [
    "C = Mest * Cov0 * Mest' + Ceta;"
   ]
  },
  {
   "cell_type": "markdown",
   "metadata": {},
   "source": [
    "and the estimated standard errors for the predictions in the vector \n",
    "$\\hat{\\mathbf{Z}}_{334}$ will be the square root of the diagonal \n",
    "elements of the matrix: \n",
    "$$\n",
    "\\mathbf{V}_n \\, \\hat{C}_{\\mathbf{\\alpha}} \\, \\mathbf{V}_n^\\top\n",
    "$$\n",
    "We compute rough pixel-wise confidence bounds for\n",
    "the predictions as twice their estimated standard errors:"
   ]
  },
  {
   "cell_type": "code",
   "execution_count": null,
   "metadata": {},
   "outputs": [],
   "source": [
    "forecast_bounds = 2 .* sqrt(diag(Ev(:, 1:n) * C * Ev(:, 1:n)'));"
   ]
  },
  {
   "cell_type": "markdown",
   "metadata": {},
   "source": [
    "<!-- To visualize the resulting prediction, we construct a -->\n",
    "<!-- single object in `R` that contains the lat / lon -->\n",
    "<!-- coordinates of each pixel, the actual Oct 1997 observations, -->\n",
    "<!-- the Oct 1997 predictions, and their associated -->\n",
    "<!-- approximate confidence bounds:  -->\n",
    "We now visualize these. The actual Oct 1997 observations\n",
    "and the predictions:\n",
    "\n",
    "<!-- ```{r pred0.6, fig.show=\"hold\", out.width=\"50%\", echo=FALSE} -->\n",
    "<!-- tmp <- SSTlonlat -->\n",
    "<!-- tmp$pred <- NA -->\n",
    "<!-- water <- which(SSTlandmask == 0) -->\n",
    "<!-- tmp$obs[water] <- SST_Oct97 -->\n",
    "<!-- tmp$pred[water] <- spatial_forecast  -->\n",
    "<!-- tmp$forecast_bounds[water] <- forecast_bounds -->\n",
    "<!-- ggplot(tmp) + -->\n",
    "<!--   geom_tile(aes(lon,lat,fill=obs)) + -->\n",
    "<!--   scale_fill_distiller(palette = \"Spectral\", name = \"degC\") + -->\n",
    "<!--   theme_bw() + coord_fixed() + ggtitle(\"Observed Oct 1997\") -->\n",
    "<!-- ggplot(tmp) + -->\n",
    "<!--   geom_tile(aes(lon,lat,fill=pred)) + -->\n",
    "<!--   scale_fill_distiller(palette = \"Spectral\", name = \"degC\") + -->\n",
    "<!--   theme_bw() + coord_fixed() + ggtitle(\"Predicted Oct 1997\") -->\n",
    "<!-- ``` -->\n",
    "\n",
    "And finally, the associated standard errors:\n",
    "\n",
    "\n",
    "<!-- ```{r pred0.7, out.width=\"50%\", echo=FALSE} -->\n",
    "<!-- ggplot(tmp) + -->\n",
    "<!--   geom_tile(aes(lon,lat,fill=forecast_bounds)) + -->\n",
    "<!--   scale_fill_distiller(palette = \"Spectral\", name = \"degC\") + -->\n",
    "<!--   theme_bw() + coord_fixed() + ggtitle(\"Approx. error bounds for Oct 1997 predictions\") -->\n",
    "<!-- ``` -->\n",
    "\n",
    "\n",
    "## Assignment \n",
    "\n",
    "1. Consider a lag-1 linear dynamic model \n",
    "and estimate the corresponding\n",
    "operator (matrix) $\\mathbf{M}$ \n",
    "using the same $n = 10$ EOF's we \n",
    "used in class. \n",
    "Compute predictions from Oct 1997\n",
    "using data until April 1997, and the\n",
    "corresponding pixel-wise standard errors. \n",
    "2. Compare, visually, your new forecast \n",
    "with the one obtained in class. What do you \n",
    "observe? Which method (if any) appears to yield\n",
    "better predictions? In which sense are they \n",
    "better? \n",
    "3. Consider a higher-dimensional approximation to the\n",
    "data using $n = 100$ EOF's. This will result\n",
    "in better\n",
    "approximations (the $\\mathbf{Z}_t^{(R)}$'s \n",
    "will be closer to the $\\mathbf{Z}_t$'s). \n",
    "Confirm (visually) that this is the case \n",
    "using the Jan 1989 observations. \n",
    "5. Repeat 1 and 2 above but using $n = 100$ EOFs.\n",
    "6. Compare, visually, your new forecast \n",
    "with the one obtained in 2 above. Discuss."
   ]
  },
  {
   "cell_type": "code",
   "execution_count": null,
   "metadata": {},
   "outputs": [],
   "source": []
  }
 ],
 "metadata": {
  "kernelspec": {
   "display_name": "prodigy",
   "language": "python",
   "name": "prodigy"
  },
  "language_info": {
   "codemirror_mode": {
    "name": "ipython",
    "version": 3
   },
   "file_extension": ".py",
   "mimetype": "text/x-python",
   "name": "python",
   "nbconvert_exporter": "python",
   "pygments_lexer": "ipython3",
   "version": "3.9.9"
  }
 },
 "nbformat": 4,
 "nbformat_minor": 4
}
